{
 "cells": [
  {
   "cell_type": "markdown",
   "metadata": {},
   "source": [
    "# Lab05 Python Data Science with Pandas\n",
    "\n",
    "## Please submit your finished lab05 jupyter notebook via pull request in GitHub"
   ]
  },
  {
   "cell_type": "code",
   "execution_count": 1,
   "metadata": {
    "jupyter": {
     "outputs_hidden": false
    }
   },
   "outputs": [],
   "source": [
    "# magic command to display matplotlib plots inline within the ipython notebook webpage\n",
    "%matplotlib inline\n",
    "\n",
    "# import necessary modules\n",
    "import pandas as pd, numpy as np, matplotlib.pyplot as plt"
   ]
  },
  {
   "cell_type": "markdown",
   "metadata": {},
   "source": [
    "## Part 1 <br /> Basics of Selecting and Slicing Data"
   ]
  },
  {
   "cell_type": "code",
   "execution_count": 3,
   "metadata": {
    "jupyter": {
     "outputs_hidden": false
    }
   },
   "outputs": [
    {
     "data": {
      "text/html": [
       "<div>\n",
       "<style scoped>\n",
       "    .dataframe tbody tr th:only-of-type {\n",
       "        vertical-align: middle;\n",
       "    }\n",
       "\n",
       "    .dataframe tbody tr th {\n",
       "        vertical-align: top;\n",
       "    }\n",
       "\n",
       "    .dataframe thead th {\n",
       "        text-align: right;\n",
       "    }\n",
       "</style>\n",
       "<table border=\"1\" class=\"dataframe\">\n",
       "  <thead>\n",
       "    <tr style=\"text-align: right;\">\n",
       "      <th></th>\n",
       "      <th>lat</th>\n",
       "      <th>lon</th>\n",
       "      <th>date</th>\n",
       "      <th>city</th>\n",
       "      <th>country</th>\n",
       "    </tr>\n",
       "  </thead>\n",
       "  <tbody>\n",
       "    <tr>\n",
       "      <th>0</th>\n",
       "      <td>51.481292</td>\n",
       "      <td>-0.451011</td>\n",
       "      <td>05/14/2014 09:07</td>\n",
       "      <td>West Drayton</td>\n",
       "      <td>United Kingdom</td>\n",
       "    </tr>\n",
       "    <tr>\n",
       "      <th>1</th>\n",
       "      <td>51.474005</td>\n",
       "      <td>-0.450999</td>\n",
       "      <td>05/14/2014 09:22</td>\n",
       "      <td>Hounslow</td>\n",
       "      <td>United Kingdom</td>\n",
       "    </tr>\n",
       "    <tr>\n",
       "      <th>2</th>\n",
       "      <td>51.478199</td>\n",
       "      <td>-0.446081</td>\n",
       "      <td>05/14/2014 10:51</td>\n",
       "      <td>Hounslow</td>\n",
       "      <td>United Kingdom</td>\n",
       "    </tr>\n",
       "    <tr>\n",
       "      <th>3</th>\n",
       "      <td>51.478199</td>\n",
       "      <td>-0.446081</td>\n",
       "      <td>05/14/2014 11:24</td>\n",
       "      <td>Hounslow</td>\n",
       "      <td>United Kingdom</td>\n",
       "    </tr>\n",
       "    <tr>\n",
       "      <th>4</th>\n",
       "      <td>51.474146</td>\n",
       "      <td>-0.451562</td>\n",
       "      <td>05/14/2014 11:38</td>\n",
       "      <td>Hounslow</td>\n",
       "      <td>United Kingdom</td>\n",
       "    </tr>\n",
       "  </tbody>\n",
       "</table>\n",
       "</div>"
      ],
      "text/plain": [
       "         lat       lon              date          city         country\n",
       "0  51.481292 -0.451011  05/14/2014 09:07  West Drayton  United Kingdom\n",
       "1  51.474005 -0.450999  05/14/2014 09:22      Hounslow  United Kingdom\n",
       "2  51.478199 -0.446081  05/14/2014 10:51      Hounslow  United Kingdom\n",
       "3  51.478199 -0.446081  05/14/2014 11:24      Hounslow  United Kingdom\n",
       "4  51.474146 -0.451562  05/14/2014 11:38      Hounslow  United Kingdom"
      ]
     },
     "execution_count": 3,
     "metadata": {},
     "output_type": "execute_result"
    }
   ],
   "source": [
    "# create a pandas dataframe from the location data set\n",
    "df = pd.read_csv(r'C:/Users/Xingyi/Desktop/PTUA/PTUA2024/Lab05/summer-travel-gps-full.csv')\n",
    "df.head()"
   ]
  },
  {
   "cell_type": "code",
   "execution_count": 7,
   "metadata": {
    "jupyter": {
     "outputs_hidden": false
    }
   },
   "outputs": [
    {
     "data": {
      "text/html": [
       "<div>\n",
       "<style scoped>\n",
       "    .dataframe tbody tr th:only-of-type {\n",
       "        vertical-align: middle;\n",
       "    }\n",
       "\n",
       "    .dataframe tbody tr th {\n",
       "        vertical-align: top;\n",
       "    }\n",
       "\n",
       "    .dataframe thead th {\n",
       "        text-align: right;\n",
       "    }\n",
       "</style>\n",
       "<table border=\"1\" class=\"dataframe\">\n",
       "  <thead>\n",
       "    <tr style=\"text-align: right;\">\n",
       "      <th></th>\n",
       "      <th>country</th>\n",
       "      <th>city</th>\n",
       "    </tr>\n",
       "  </thead>\n",
       "  <tbody>\n",
       "    <tr>\n",
       "      <th>0</th>\n",
       "      <td>United Kingdom</td>\n",
       "      <td>West Drayton</td>\n",
       "    </tr>\n",
       "    <tr>\n",
       "      <th>1</th>\n",
       "      <td>United Kingdom</td>\n",
       "      <td>Hounslow</td>\n",
       "    </tr>\n",
       "    <tr>\n",
       "      <th>2</th>\n",
       "      <td>United Kingdom</td>\n",
       "      <td>Hounslow</td>\n",
       "    </tr>\n",
       "    <tr>\n",
       "      <th>3</th>\n",
       "      <td>United Kingdom</td>\n",
       "      <td>Hounslow</td>\n",
       "    </tr>\n",
       "    <tr>\n",
       "      <th>4</th>\n",
       "      <td>United Kingdom</td>\n",
       "      <td>Hounslow</td>\n",
       "    </tr>\n",
       "    <tr>\n",
       "      <th>...</th>\n",
       "      <td>...</td>\n",
       "      <td>...</td>\n",
       "    </tr>\n",
       "    <tr>\n",
       "      <th>1754</th>\n",
       "      <td>Germany</td>\n",
       "      <td>Munich</td>\n",
       "    </tr>\n",
       "    <tr>\n",
       "      <th>1755</th>\n",
       "      <td>Germany</td>\n",
       "      <td>Munich</td>\n",
       "    </tr>\n",
       "    <tr>\n",
       "      <th>1756</th>\n",
       "      <td>Germany</td>\n",
       "      <td>Munich</td>\n",
       "    </tr>\n",
       "    <tr>\n",
       "      <th>1757</th>\n",
       "      <td>Germany</td>\n",
       "      <td>Munich</td>\n",
       "    </tr>\n",
       "    <tr>\n",
       "      <th>1758</th>\n",
       "      <td>Germany</td>\n",
       "      <td>Munich</td>\n",
       "    </tr>\n",
       "  </tbody>\n",
       "</table>\n",
       "<p>1759 rows × 2 columns</p>\n",
       "</div>"
      ],
      "text/plain": [
       "             country          city\n",
       "0     United Kingdom  West Drayton\n",
       "1     United Kingdom      Hounslow\n",
       "2     United Kingdom      Hounslow\n",
       "3     United Kingdom      Hounslow\n",
       "4     United Kingdom      Hounslow\n",
       "...              ...           ...\n",
       "1754         Germany        Munich\n",
       "1755         Germany        Munich\n",
       "1756         Germany        Munich\n",
       "1757         Germany        Munich\n",
       "1758         Germany        Munich\n",
       "\n",
       "[1759 rows x 2 columns]"
      ]
     },
     "execution_count": 7,
     "metadata": {},
     "output_type": "execute_result"
    }
   ],
   "source": [
    "# Q1: how to get 2 columns from the dataframe (city and country)?\n",
    "data = df[['country', 'city']]\n",
    "data"
   ]
  },
  {
   "cell_type": "markdown",
   "metadata": {},
   "source": [
    "To get a single \"cell's\" value out of a dataframe, pass a column name, then a row label. This is equivalent to slicing the dataframe down to a single series, then slicing a single value out of that series using [ ] indexing."
   ]
  },
  {
   "cell_type": "code",
   "execution_count": 8,
   "metadata": {
    "jupyter": {
     "outputs_hidden": false
    }
   },
   "outputs": [
    {
     "data": {
      "text/html": [
       "<div>\n",
       "<style scoped>\n",
       "    .dataframe tbody tr th:only-of-type {\n",
       "        vertical-align: middle;\n",
       "    }\n",
       "\n",
       "    .dataframe tbody tr th {\n",
       "        vertical-align: top;\n",
       "    }\n",
       "\n",
       "    .dataframe thead th {\n",
       "        text-align: right;\n",
       "    }\n",
       "</style>\n",
       "<table border=\"1\" class=\"dataframe\">\n",
       "  <thead>\n",
       "    <tr style=\"text-align: right;\">\n",
       "      <th></th>\n",
       "      <th>country</th>\n",
       "      <th>city</th>\n",
       "    </tr>\n",
       "  </thead>\n",
       "  <tbody>\n",
       "    <tr>\n",
       "      <th>0</th>\n",
       "      <td>United Kingdom</td>\n",
       "      <td>West Drayton</td>\n",
       "    </tr>\n",
       "    <tr>\n",
       "      <th>1</th>\n",
       "      <td>United Kingdom</td>\n",
       "      <td>Hounslow</td>\n",
       "    </tr>\n",
       "    <tr>\n",
       "      <th>2</th>\n",
       "      <td>United Kingdom</td>\n",
       "      <td>Hounslow</td>\n",
       "    </tr>\n",
       "    <tr>\n",
       "      <th>3</th>\n",
       "      <td>United Kingdom</td>\n",
       "      <td>Hounslow</td>\n",
       "    </tr>\n",
       "    <tr>\n",
       "      <th>4</th>\n",
       "      <td>United Kingdom</td>\n",
       "      <td>Hounslow</td>\n",
       "    </tr>\n",
       "  </tbody>\n",
       "</table>\n",
       "</div>"
      ],
      "text/plain": [
       "          country          city\n",
       "0  United Kingdom  West Drayton\n",
       "1  United Kingdom      Hounslow\n",
       "2  United Kingdom      Hounslow\n",
       "3  United Kingdom      Hounslow\n",
       "4  United Kingdom      Hounslow"
      ]
     },
     "execution_count": 8,
     "metadata": {},
     "output_type": "execute_result"
    }
   ],
   "source": [
    "# Q2: how to get the first 5 rows of the \"city\" column?\n",
    "data.head(5)"
   ]
  },
  {
   "cell_type": "markdown",
   "metadata": {},
   "source": [
    "### Using .loc[ ]"
   ]
  },
  {
   "cell_type": "code",
   "execution_count": 18,
   "metadata": {
    "jupyter": {
     "outputs_hidden": false
    }
   },
   "outputs": [
    {
     "data": {
      "text/html": [
       "<div>\n",
       "<style scoped>\n",
       "    .dataframe tbody tr th:only-of-type {\n",
       "        vertical-align: middle;\n",
       "    }\n",
       "\n",
       "    .dataframe tbody tr th {\n",
       "        vertical-align: top;\n",
       "    }\n",
       "\n",
       "    .dataframe thead th {\n",
       "        text-align: right;\n",
       "    }\n",
       "</style>\n",
       "<table border=\"1\" class=\"dataframe\">\n",
       "  <thead>\n",
       "    <tr style=\"text-align: right;\">\n",
       "      <th></th>\n",
       "      <th>country</th>\n",
       "      <th>city</th>\n",
       "    </tr>\n",
       "  </thead>\n",
       "  <tbody>\n",
       "    <tr>\n",
       "      <th>1</th>\n",
       "      <td>United Kingdom</td>\n",
       "      <td>Hounslow</td>\n",
       "    </tr>\n",
       "    <tr>\n",
       "      <th>2</th>\n",
       "      <td>United Kingdom</td>\n",
       "      <td>Hounslow</td>\n",
       "    </tr>\n",
       "    <tr>\n",
       "      <th>3</th>\n",
       "      <td>United Kingdom</td>\n",
       "      <td>Hounslow</td>\n",
       "    </tr>\n",
       "  </tbody>\n",
       "</table>\n",
       "</div>"
      ],
      "text/plain": [
       "          country      city\n",
       "1  United Kingdom  Hounslow\n",
       "2  United Kingdom  Hounslow\n",
       "3  United Kingdom  Hounslow"
      ]
     },
     "execution_count": 18,
     "metadata": {},
     "output_type": "execute_result"
    }
   ],
   "source": [
    "# Q3: how to use .loc to select the third row of the dataframe?\n",
    "data[1:4]"
   ]
  },
  {
   "cell_type": "code",
   "execution_count": 13,
   "metadata": {
    "jupyter": {
     "outputs_hidden": false
    }
   },
   "outputs": [
    {
     "data": {
      "text/plain": [
       "'United Kingdom'"
      ]
     },
     "execution_count": 13,
     "metadata": {},
     "output_type": "execute_result"
    }
   ],
   "source": [
    "# Q4: how to use .loc to select the first row in \"country\" column?\n",
    "data['country'][2]"
   ]
  },
  {
   "cell_type": "code",
   "execution_count": 15,
   "metadata": {
    "jupyter": {
     "outputs_hidden": false
    }
   },
   "outputs": [
    {
     "data": {
      "text/html": [
       "<div>\n",
       "<style scoped>\n",
       "    .dataframe tbody tr th:only-of-type {\n",
       "        vertical-align: middle;\n",
       "    }\n",
       "\n",
       "    .dataframe tbody tr th {\n",
       "        vertical-align: top;\n",
       "    }\n",
       "\n",
       "    .dataframe thead th {\n",
       "        text-align: right;\n",
       "    }\n",
       "</style>\n",
       "<table border=\"1\" class=\"dataframe\">\n",
       "  <thead>\n",
       "    <tr style=\"text-align: right;\">\n",
       "      <th></th>\n",
       "      <th>city</th>\n",
       "      <th>date</th>\n",
       "    </tr>\n",
       "  </thead>\n",
       "  <tbody>\n",
       "    <tr>\n",
       "      <th>0</th>\n",
       "      <td>West Drayton</td>\n",
       "      <td>05/14/2014 09:07</td>\n",
       "    </tr>\n",
       "    <tr>\n",
       "      <th>1</th>\n",
       "      <td>Hounslow</td>\n",
       "      <td>05/14/2014 09:22</td>\n",
       "    </tr>\n",
       "    <tr>\n",
       "      <th>2</th>\n",
       "      <td>Hounslow</td>\n",
       "      <td>05/14/2014 10:51</td>\n",
       "    </tr>\n",
       "    <tr>\n",
       "      <th>3</th>\n",
       "      <td>Hounslow</td>\n",
       "      <td>05/14/2014 11:24</td>\n",
       "    </tr>\n",
       "    <tr>\n",
       "      <th>4</th>\n",
       "      <td>Hounslow</td>\n",
       "      <td>05/14/2014 11:38</td>\n",
       "    </tr>\n",
       "  </tbody>\n",
       "</table>\n",
       "</div>"
      ],
      "text/plain": [
       "           city              date\n",
       "0  West Drayton  05/14/2014 09:07\n",
       "1      Hounslow  05/14/2014 09:22\n",
       "2      Hounslow  05/14/2014 10:51\n",
       "3      Hounslow  05/14/2014 11:24\n",
       "4      Hounslow  05/14/2014 11:38"
      ]
     },
     "execution_count": 15,
     "metadata": {},
     "output_type": "execute_result"
    }
   ],
   "source": [
    "# Q5: how to select the first 4 rows of ['city', 'date'] columns?\n",
    "city_data = df[['city','date']]\n",
    "city_data.head(5)"
   ]
  },
  {
   "cell_type": "markdown",
   "metadata": {},
   "source": [
    "### Using .iloc[ ]"
   ]
  },
  {
   "cell_type": "code",
   "execution_count": 20,
   "metadata": {
    "jupyter": {
     "outputs_hidden": false
    }
   },
   "outputs": [
    {
     "name": "stdout",
     "output_type": "stream",
     "text": [
      "Value at row 3, column 2: -0.446081\n"
     ]
    }
   ],
   "source": [
    "# use .iloc for integer position based indexing\n",
    "# Q6: how to get the value from the row in position 3 and the column in position 2\n",
    "ps = pd.DataFrame(data)\n",
    "value = df.iloc[2, 1]\n",
    "print(\"Value at row 3, column 2:\", value)"
   ]
  },
  {
   "cell_type": "code",
   "execution_count": 22,
   "metadata": {
    "jupyter": {
     "outputs_hidden": false
    }
   },
   "outputs": [
    {
     "data": {
      "text/html": [
       "<div>\n",
       "<style scoped>\n",
       "    .dataframe tbody tr th:only-of-type {\n",
       "        vertical-align: middle;\n",
       "    }\n",
       "\n",
       "    .dataframe tbody tr th {\n",
       "        vertical-align: top;\n",
       "    }\n",
       "\n",
       "    .dataframe thead th {\n",
       "        text-align: right;\n",
       "    }\n",
       "</style>\n",
       "<table border=\"1\" class=\"dataframe\">\n",
       "  <thead>\n",
       "    <tr style=\"text-align: right;\">\n",
       "      <th></th>\n",
       "      <th>country</th>\n",
       "      <th>city</th>\n",
       "    </tr>\n",
       "  </thead>\n",
       "  <tbody>\n",
       "    <tr>\n",
       "      <th>300</th>\n",
       "      <td>Spain</td>\n",
       "      <td>Barcelona</td>\n",
       "    </tr>\n",
       "  </tbody>\n",
       "</table>\n",
       "</div>"
      ],
      "text/plain": [
       "    country       city\n",
       "300   Spain  Barcelona"
      ]
     },
     "execution_count": 22,
     "metadata": {},
     "output_type": "execute_result"
    }
   ],
   "source": [
    "# Q7: how to use iloc to select every 300th row from a data set\n",
    "selected_rows = data.iloc[[300]]\n",
    "selected_rows"
   ]
  },
  {
   "cell_type": "markdown",
   "metadata": {},
   "source": [
    "## Part 2 <br /> How to select rows by some value(s)"
   ]
  },
  {
   "cell_type": "code",
   "execution_count": 23,
   "metadata": {
    "jupyter": {
     "outputs_hidden": false
    }
   },
   "outputs": [
    {
     "data": {
      "text/html": [
       "<div>\n",
       "<style scoped>\n",
       "    .dataframe tbody tr th:only-of-type {\n",
       "        vertical-align: middle;\n",
       "    }\n",
       "\n",
       "    .dataframe tbody tr th {\n",
       "        vertical-align: top;\n",
       "    }\n",
       "\n",
       "    .dataframe thead th {\n",
       "        text-align: right;\n",
       "    }\n",
       "</style>\n",
       "<table border=\"1\" class=\"dataframe\">\n",
       "  <thead>\n",
       "    <tr style=\"text-align: right;\">\n",
       "      <th></th>\n",
       "      <th>lat</th>\n",
       "      <th>lon</th>\n",
       "      <th>date</th>\n",
       "      <th>city</th>\n",
       "      <th>country</th>\n",
       "    </tr>\n",
       "  </thead>\n",
       "  <tbody>\n",
       "    <tr>\n",
       "      <th>173</th>\n",
       "      <td>41.044556</td>\n",
       "      <td>28.983286</td>\n",
       "      <td>07/08/2014 16:44</td>\n",
       "      <td>Istanbul</td>\n",
       "      <td>Turkey</td>\n",
       "    </tr>\n",
       "    <tr>\n",
       "      <th>174</th>\n",
       "      <td>41.008992</td>\n",
       "      <td>28.968268</td>\n",
       "      <td>07/08/2014 20:03</td>\n",
       "      <td>Istanbul</td>\n",
       "      <td>Turkey</td>\n",
       "    </tr>\n",
       "    <tr>\n",
       "      <th>175</th>\n",
       "      <td>41.043487</td>\n",
       "      <td>28.985488</td>\n",
       "      <td>07/08/2014 22:18</td>\n",
       "      <td>Istanbul</td>\n",
       "      <td>Turkey</td>\n",
       "    </tr>\n",
       "    <tr>\n",
       "      <th>176</th>\n",
       "      <td>40.977637</td>\n",
       "      <td>28.823879</td>\n",
       "      <td>07/09/2014 09:03</td>\n",
       "      <td>Istanbul</td>\n",
       "      <td>Turkey</td>\n",
       "    </tr>\n",
       "    <tr>\n",
       "      <th>177</th>\n",
       "      <td>48.357110</td>\n",
       "      <td>11.791346</td>\n",
       "      <td>07/09/2014 13:20</td>\n",
       "      <td>Munich</td>\n",
       "      <td>Germany</td>\n",
       "    </tr>\n",
       "  </tbody>\n",
       "</table>\n",
       "</div>"
      ],
      "text/plain": [
       "           lat        lon              date      city  country\n",
       "173  41.044556  28.983286  07/08/2014 16:44  Istanbul   Turkey\n",
       "174  41.008992  28.968268  07/08/2014 20:03  Istanbul   Turkey\n",
       "175  41.043487  28.985488  07/08/2014 22:18  Istanbul   Turkey\n",
       "176  40.977637  28.823879  07/09/2014 09:03  Istanbul   Turkey\n",
       "177  48.357110  11.791346  07/09/2014 13:20    Munich  Germany"
      ]
     },
     "execution_count": 23,
     "metadata": {},
     "output_type": "execute_result"
    }
   ],
   "source": [
    "# load a reduced set of gps data\n",
    "df = pd.read_csv('C:/Users/Xingyi/Desktop/PTUA/PTUA2024/Lab05/summer-travel-gps-simplified.csv')\n",
    "df.tail()"
   ]
  },
  {
   "cell_type": "code",
   "execution_count": 88,
   "metadata": {
    "jupyter": {
     "outputs_hidden": false
    }
   },
   "outputs": [
    {
     "name": "stdout",
     "output_type": "stream",
     "text": [
      "date\n",
      "2014-05-14 09:07:00    False\n",
      "2014-05-14 09:22:00    False\n",
      "2014-05-14 10:51:00    False\n",
      "2014-05-14 11:24:00    False\n",
      "2014-05-14 11:38:00    False\n",
      "                       ...  \n",
      "2014-07-09 13:13:00     True\n",
      "2014-07-09 13:14:00     True\n",
      "2014-07-09 13:17:00     True\n",
      "2014-07-09 13:18:00     True\n",
      "2014-07-09 13:20:00     True\n",
      "Name: city, Length: 1759, dtype: bool\n"
     ]
    }
   ],
   "source": [
    "# Q9: create a Series of true/false, indicating if each \"city\" row in the column is equal to \"Munich\"\n",
    "# Create a boolean Series where values are True if they are equal to \"Munich\", and False otherwise\n",
    "condition_series = df['city'] == 'Munich'\n",
    "\n",
    "# Print the DataFrame and the boolean Series\n",
    "print(condition_series)"
   ]
  },
  {
   "cell_type": "code",
   "execution_count": 104,
   "metadata": {
    "jupyter": {
     "outputs_hidden": false
    }
   },
   "outputs": [
    {
     "name": "stdout",
     "output_type": "stream",
     "text": [
      "                           lat       lon                     city country\n",
      "date                                                                     \n",
      "2014-05-18 22:35:00  41.303911  2.105931     El Prat de Llobregat   Spain\n",
      "2014-05-18 22:49:00  41.292723  2.075583               Viladecans   Spain\n",
      "2014-05-18 23:04:00  41.289946  2.064590               Viladecans   Spain\n",
      "2014-05-18 23:20:00  41.294143  2.073177               Viladecans   Spain\n",
      "2014-05-18 23:34:00  41.320125  2.090935     El Prat de Llobregat   Spain\n",
      "2014-06-12 17:19:00  41.306752  2.097624     El Prat de Llobregat   Spain\n",
      "2014-06-12 17:35:00  41.312086  2.077921     El Prat de Llobregat   Spain\n",
      "2014-06-12 17:49:00  41.304333  2.072728     El Prat de Llobregat   Spain\n",
      "2014-06-12 18:04:00  41.354599  2.122235  Hospitalet de Llobregat   Spain\n",
      "2014-06-13 11:05:00  41.359580  2.128153  Hospitalet de Llobregat   Spain\n",
      "2014-06-13 11:19:00  41.359702  2.130125  Hospitalet de Llobregat   Spain\n",
      "2014-06-13 11:35:00  41.358460  2.128701  Hospitalet de Llobregat   Spain\n",
      "2014-06-20 22:15:00  41.294761  2.059722               Viladecans   Spain\n",
      "2014-06-20 23:14:00  41.304421  2.062938     El Prat de Llobregat   Spain\n"
     ]
    }
   ],
   "source": [
    "# pandas logical operators are: | for or, & for and, ~ for not\n",
    "# these must be grouped by using parentheses\n",
    "# Q10: what cities were visited in spain that were not barcelona? Create a dataframe for it. \n",
    "non_barcelona_df = df[(df['country'] == 'Spain') & (df['city'] != 'Barcelona')]\n",
    "print(non_barcelona_df)"
   ]
  },
  {
   "cell_type": "code",
   "execution_count": 108,
   "metadata": {
    "jupyter": {
     "outputs_hidden": false
    }
   },
   "outputs": [
    {
     "name": "stdout",
     "output_type": "stream",
     "text": [
      "                           lat        lon       city  country\n",
      "date                                                         \n",
      "2014-06-21 01:59:00  44.821164  20.289821   Belgrade   Serbia\n",
      "2014-06-21 02:29:00  44.814263  20.463396   Belgrade   Serbia\n",
      "2014-06-21 04:29:00  44.814237  20.463395   Belgrade   Serbia\n",
      "2014-06-21 05:30:00  44.814260  20.463441   Belgrade   Serbia\n",
      "2014-06-21 08:00:00  44.814255  20.463413   Belgrade   Serbia\n",
      "2014-06-21 10:14:00  44.814763  20.462994   Belgrade   Serbia\n",
      "2014-06-21 13:29:00  44.814257  20.463436   Belgrade   Serbia\n",
      "2014-06-21 13:45:00  44.814246  20.463423   Belgrade   Serbia\n",
      "2014-06-21 15:29:00  44.814242  20.463396   Belgrade   Serbia\n",
      "2014-06-21 17:29:00  44.817690  20.464091   Belgrade   Serbia\n",
      "2014-06-21 18:44:00  44.820414  20.463465   Belgrade   Serbia\n",
      "2014-06-21 19:30:00  44.814251  20.463413   Belgrade   Serbia\n",
      "2014-06-21 22:14:00  44.814237  20.463392   Belgrade   Serbia\n",
      "2014-06-22 05:14:00  44.814209  20.463401   Belgrade   Serbia\n",
      "2014-06-22 07:58:00  44.761583  19.577904  Slepčević   Serbia\n",
      "2014-07-09 13:11:00  48.356417  11.792155     Munich  Germany\n",
      "2014-07-09 13:13:00  48.356013  11.791710     Munich  Germany\n",
      "2014-07-09 13:14:00  48.356529  11.792183     Munich  Germany\n",
      "2014-07-09 13:17:00  48.356285  11.791710     Munich  Germany\n",
      "2014-07-09 13:18:00  48.355328  11.791710     Munich  Germany\n",
      "2014-07-09 13:20:00  48.357110  11.791346     Munich  Germany\n"
     ]
    }
   ],
   "source": [
    "# Q11: select rows where either the city is munich, or the country is serbia\n",
    "munich_df = df[(df['country'] == 'Serbia') | (df['city'] == 'Munich')]\n",
    "print(munich_df)"
   ]
  },
  {
   "cell_type": "code",
   "execution_count": 110,
   "metadata": {
    "jupyter": {
     "outputs_hidden": false
    }
   },
   "outputs": [
    {
     "name": "stdout",
     "output_type": "stream",
     "text": [
      "263\n"
     ]
    }
   ],
   "source": [
    "# Q12: how many observations are west of the prime meridian?\n",
    "west_of_prime_meridian_count = df[df['lon'] < 0].shape[0] \n",
    "#df['lon'] < 0 creates a boolean Series where each element is True if the corresponding longitude value is west of the prime meridian (negative) and False otherwise. The resulting boolean Series is then used to filter the DataFrame, and shape[0] is used to get the count of rows.\n",
    "\n",
    "# Print the count\n",
    "print(west_of_prime_meridian_count)"
   ]
  },
  {
   "cell_type": "code",
   "execution_count": 111,
   "metadata": {
    "jupyter": {
     "outputs_hidden": false
    }
   },
   "outputs": [
    {
     "name": "stdout",
     "output_type": "stream",
     "text": [
      "                           lat        lon         city  country\n",
      "date                                                           \n",
      "2014-06-02 06:39:00  50.273632  18.729429      Gliwice   Poland\n",
      "2014-06-02 06:55:00  50.273632  18.729429      Gliwice   Poland\n",
      "2014-06-10 13:33:00  48.282940   8.199630       Gutach  Germany\n",
      "2014-06-10 13:48:00  48.389029   8.021342   Gengenbach  Germany\n",
      "2014-07-04 17:39:00  40.187827  20.079304  Gjirokastër  Albania\n",
      "2014-07-04 17:42:00  40.187825  20.079303  Gjirokastër  Albania\n"
     ]
    }
   ],
   "source": [
    "# Q13: get all rows that contain a city that starts with the letter G\n",
    "# Filter rows where the \"city\" starts with the letter 'G'\n",
    "cities_starting_with_g_df = df[df['city'].str.startswith('G')]\n",
    "\n",
    "# Print the resulting DataFrame\n",
    "print(cities_starting_with_g_df)"
   ]
  },
  {
   "cell_type": "code",
   "execution_count": 117,
   "metadata": {},
   "outputs": [
    {
     "name": "stdout",
     "output_type": "stream",
     "text": [
      "unique cities ['West Drayton' 'Hounslow' 'Lisbon' 'Amadora' 'Algueirão-Mem Martins'\n",
      " 'Sintra' 'Damaia' 'Azambuja' 'Santarém' 'Zibreira' 'Ourém Municipality'\n",
      " 'São Mamede' 'Leiria District' 'Coimbra Municipality' 'Aveiro District'\n",
      " 'Vila Nova de Gaia' 'Porto' 'Vila Nova de Gaia Municipality'\n",
      " 'Porto District' 'Maia Municipality' 'Matosinhos' 'Maia'\n",
      " 'El Prat de Llobregat' 'Viladecans' 'Barcelona' 'Zendek'\n",
      " 'Tarnowskie Góry County' 'Silesian Voivodeship' 'Dabrowa Gornicza'\n",
      " 'Olkusz County' 'Krakow' 'Kraków-Śródmieście' 'Oswiecim'\n",
      " 'Babice, Oświęcim County' 'Wygiełzów, Lesser Poland Voivodeship'\n",
      " 'Chrzanów County' 'Wieliczka' 'Balice, Lesser Poland Voivodeship'\n",
      " 'Trzebinia' 'Imielin' 'Ruda Slaska' 'Gliwice' 'Bytom' 'Novy Bohumin'\n",
      " 'Ostrava' 'Suchdol nad Odrou' 'Hranice' 'Prerov' 'Ústí nad Orlicí'\n",
      " 'Kojice' 'Sadská' 'Prague' 'Úvaly' 'Poříčany' 'Kolin' 'Kutna Hora'\n",
      " 'Nové Dvory (Kutná Hora District)' 'Český Brod' 'Beroun' 'Mýto' 'Plzen'\n",
      " 'Blatnice' 'Kostelec' 'Rozvadov' 'Kümmersbruck' 'Winkelhaid'\n",
      " 'Kammerstein' 'Ansbach' 'Ellhofen' 'Obersulm' 'Stuttgart' 'Wernau'\n",
      " 'Riederich' 'Kirchentellinsfurt' 'Tübingen' 'Rottenburg' 'Horb am Neckar'\n",
      " 'Eutingen im Gäu' 'Schopfloch' 'Freudenstadt' 'Alpirsbach' 'Wolfach'\n",
      " 'Gutach' 'Gengenbach' 'Offenburg' 'Friesenheim' 'Freiburg' 'Kirchzarten'\n",
      " 'Titisee-Neustadt' 'Villingen-Schwenningen' 'Dietingen'\n",
      " 'Leinfelden-Echterdingen' 'Hospitalet de Llobregat' 'Belgrade'\n",
      " 'Slepčević' 'Sarajevo' 'Mostar' 'Ploče' 'Split'\n",
      " 'Herzegovina-Neretva Canton' 'Dubrovnik' 'Kotor' 'Prizren' 'Ohrid'\n",
      " 'Berat' 'Gjirokastër' 'Kakavia' 'Dytiki Ellada' 'Peloponnese' 'Athens'\n",
      " 'Attica' 'Istanbul' 'Munich']\n",
      "unique country ['United Kingdom' 'Portugal' 'Spain' 'Poland' 'Czech Republic' 'Germany'\n",
      " 'Serbia' 'Bosnia and Herzegovina' 'Croatia' 'Montenegro' 'Kosovo'\n",
      " 'Macedonia (FYROM)' 'Albania' 'Greece' 'Turkey']\n"
     ]
    },
    {
     "data": {
      "text/plain": [
       "lat        0\n",
       "lon        0\n",
       "city       0\n",
       "country    0\n",
       "dtype: int64"
      ]
     },
     "execution_count": 117,
     "metadata": {},
     "output_type": "execute_result"
    }
   ],
   "source": [
    "# Q14: how many unique cities and countries in the dataset? \n",
    "unique_cities = df.city.unique()\n",
    "print(\"unique cities\",unique_cities)\n",
    "\n",
    "unique_countries = df.country.unique()\n",
    "print(\"unique country\",unique_countries)\n",
    "\n",
    "# Also can you check missing values for the dataframe\n",
    "df.isnull().sum()"
   ]
  },
  {
   "cell_type": "code",
   "execution_count": 122,
   "metadata": {},
   "outputs": [
    {
     "name": "stdout",
     "output_type": "stream",
     "text": [
      "                   country                                               city\n",
      "0                  Albania  [Berat, Berat, Berat, Berat, Berat, Berat, Ber...\n",
      "1   Bosnia and Herzegovina  [Sarajevo, Sarajevo, Sarajevo, Sarajevo, Saraj...\n",
      "2                  Croatia  [Ploče, Split, Split, Split, Split, Split, Spl...\n",
      "3           Czech Republic  [Novy Bohumin, Ostrava, Suchdol nad Odrou, Hra...\n",
      "4                  Germany  [Kümmersbruck, Winkelhaid, Kammerstein, Ansbac...\n",
      "5                   Greece  [Kakavia, Dytiki Ellada, Dytiki Ellada, Dytiki...\n",
      "6                   Kosovo  [Prizren, Prizren, Prizren, Prizren, Prizren, ...\n",
      "7        Macedonia (FYROM)  [Ohrid, Ohrid, Ohrid, Ohrid, Ohrid, Ohrid, Ohr...\n",
      "8               Montenegro  [Kotor, Kotor, Kotor, Kotor, Kotor, Kotor, Kot...\n",
      "9                   Poland  [Zendek, Tarnowskie Góry County, Silesian Voiv...\n",
      "10                Portugal  [Lisbon, Lisbon, Lisbon, Lisbon, Lisbon, Lisbo...\n",
      "11                  Serbia  [Belgrade, Belgrade, Belgrade, Belgrade, Belgr...\n",
      "12                   Spain  [El Prat de Llobregat, Viladecans, Viladecans,...\n",
      "13                  Turkey  [Istanbul, Istanbul, Istanbul, Istanbul, Istan...\n",
      "14          United Kingdom  [West Drayton, Hounslow, Hounslow, Hounslow, H...\n"
     ]
    }
   ],
   "source": [
    "# Q15: group by country name and show the city names in each of the country\n",
    "grouped_df = df.groupby('country')['city'].agg(list).reset_index()\n",
    "print(grouped_df)\n",
    "\n",
    "# question here: What should I do if I don't want to show the city repeatedly, only shows the cities once inside the braket"
   ]
  },
  {
   "cell_type": "markdown",
   "metadata": {},
   "source": [
    "## Part 3 <br /> How to select based on a date-time values"
   ]
  },
  {
   "cell_type": "code",
   "execution_count": 62,
   "metadata": {
    "jupyter": {
     "outputs_hidden": false
    }
   },
   "outputs": [
    {
     "data": {
      "text/html": [
       "<div>\n",
       "<style scoped>\n",
       "    .dataframe tbody tr th:only-of-type {\n",
       "        vertical-align: middle;\n",
       "    }\n",
       "\n",
       "    .dataframe tbody tr th {\n",
       "        vertical-align: top;\n",
       "    }\n",
       "\n",
       "    .dataframe thead th {\n",
       "        text-align: right;\n",
       "    }\n",
       "</style>\n",
       "<table border=\"1\" class=\"dataframe\">\n",
       "  <thead>\n",
       "    <tr style=\"text-align: right;\">\n",
       "      <th></th>\n",
       "      <th>lat</th>\n",
       "      <th>lon</th>\n",
       "      <th>city</th>\n",
       "      <th>country</th>\n",
       "    </tr>\n",
       "    <tr>\n",
       "      <th>date</th>\n",
       "      <th></th>\n",
       "      <th></th>\n",
       "      <th></th>\n",
       "      <th></th>\n",
       "    </tr>\n",
       "  </thead>\n",
       "  <tbody>\n",
       "    <tr>\n",
       "      <th>2014-05-14 09:07:00</th>\n",
       "      <td>51.481292</td>\n",
       "      <td>-0.451011</td>\n",
       "      <td>West Drayton</td>\n",
       "      <td>United Kingdom</td>\n",
       "    </tr>\n",
       "    <tr>\n",
       "      <th>2014-05-14 09:22:00</th>\n",
       "      <td>51.474005</td>\n",
       "      <td>-0.450999</td>\n",
       "      <td>Hounslow</td>\n",
       "      <td>United Kingdom</td>\n",
       "    </tr>\n",
       "    <tr>\n",
       "      <th>2014-05-14 10:51:00</th>\n",
       "      <td>51.478199</td>\n",
       "      <td>-0.446081</td>\n",
       "      <td>Hounslow</td>\n",
       "      <td>United Kingdom</td>\n",
       "    </tr>\n",
       "    <tr>\n",
       "      <th>2014-05-14 11:24:00</th>\n",
       "      <td>51.478199</td>\n",
       "      <td>-0.446081</td>\n",
       "      <td>Hounslow</td>\n",
       "      <td>United Kingdom</td>\n",
       "    </tr>\n",
       "    <tr>\n",
       "      <th>2014-05-14 11:38:00</th>\n",
       "      <td>51.474146</td>\n",
       "      <td>-0.451562</td>\n",
       "      <td>Hounslow</td>\n",
       "      <td>United Kingdom</td>\n",
       "    </tr>\n",
       "  </tbody>\n",
       "</table>\n",
       "</div>"
      ],
      "text/plain": [
       "                           lat       lon          city         country\n",
       "date                                                                  \n",
       "2014-05-14 09:07:00  51.481292 -0.451011  West Drayton  United Kingdom\n",
       "2014-05-14 09:22:00  51.474005 -0.450999      Hounslow  United Kingdom\n",
       "2014-05-14 10:51:00  51.478199 -0.446081      Hounslow  United Kingdom\n",
       "2014-05-14 11:24:00  51.478199 -0.446081      Hounslow  United Kingdom\n",
       "2014-05-14 11:38:00  51.474146 -0.451562      Hounslow  United Kingdom"
      ]
     },
     "execution_count": 62,
     "metadata": {},
     "output_type": "execute_result"
    }
   ],
   "source": [
    "# load the location data set, indexed by the date field\n",
    "# and, parse the dates so they're no longer strings but now rather Python datetime objects\n",
    "# this lets us do date and time based operations on the data set\n",
    "dt = pd.read_csv('C:/Users/Xingyi/Desktop/PTUA/PTUA2024/Lab05/summer-travel-gps-full.csv', index_col='date', parse_dates=True)\n",
    "dt.head()"
   ]
  },
  {
   "cell_type": "code",
   "execution_count": 66,
   "metadata": {
    "jupyter": {
     "outputs_hidden": false
    }
   },
   "outputs": [
    {
     "data": {
      "text/plain": [
       "False"
      ]
     },
     "execution_count": 66,
     "metadata": {},
     "output_type": "execute_result"
    }
   ],
   "source": [
    "# Q16: is the timestamp index unique? How can you use code to find it? \n",
    "is_unique = dt.index.is_unique\n",
    "is_unique"
   ]
  },
  {
   "cell_type": "code",
   "execution_count": null,
   "metadata": {
    "jupyter": {
     "outputs_hidden": false
    }
   },
   "outputs": [],
   "source": [
    "# Q17: drop duplicate index \n",
    "# check if there are duplicates\n",
    "has_duplicates = dt.index.duplicated().any()\n",
    "\n",
    "# Print the DataFrame before dropping duplicates\n",
    "print(dt)\n",
    "\n",
    "# Drop rows with duplicate indices\n",
    "dt_no_duplicates = dt[~dt.index.duplicated(keep='first')]\n",
    "\n",
    "# Print the DataFrame after dropping duplicates\n",
    "print(dt_no_duplicates)"
   ]
  },
  {
   "cell_type": "code",
   "execution_count": 70,
   "metadata": {
    "jupyter": {
     "outputs_hidden": false
    }
   },
   "outputs": [
    {
     "name": "stdout",
     "output_type": "stream",
     "text": [
      "Weekday DataFrame:\n",
      "                           lat        lon          city         country\n",
      "date                                                                   \n",
      "2014-05-14 09:07:00  51.481292  -0.451011  West Drayton  United Kingdom\n",
      "2014-05-14 09:22:00  51.474005  -0.450999      Hounslow  United Kingdom\n",
      "2014-05-14 10:51:00  51.478199  -0.446081      Hounslow  United Kingdom\n",
      "2014-05-14 11:24:00  51.478199  -0.446081      Hounslow  United Kingdom\n",
      "2014-05-14 11:38:00  51.474146  -0.451562      Hounslow  United Kingdom\n",
      "...                        ...        ...           ...             ...\n",
      "2014-07-09 13:13:00  48.356013  11.791710        Munich         Germany\n",
      "2014-07-09 13:14:00  48.356529  11.792183        Munich         Germany\n",
      "2014-07-09 13:17:00  48.356285  11.791710        Munich         Germany\n",
      "2014-07-09 13:18:00  48.355328  11.791710        Munich         Germany\n",
      "2014-07-09 13:20:00  48.357110  11.791346        Munich         Germany\n",
      "\n",
      "[1245 rows x 4 columns]\n",
      "Weekend DataFrame:\n",
      "                           lat        lon      city   country\n",
      "date                                                         \n",
      "2014-05-17 00:09:00  38.711824  -9.137308    Lisbon  Portugal\n",
      "2014-05-17 00:39:00  38.711833  -9.137317    Lisbon  Portugal\n",
      "2014-05-17 01:09:00  38.711822  -9.137277    Lisbon  Portugal\n",
      "2014-05-17 01:39:00  38.711823  -9.137273    Lisbon  Portugal\n",
      "2014-05-17 01:54:00  38.711828  -9.137279    Lisbon  Portugal\n",
      "...                        ...        ...       ...       ...\n",
      "2014-07-06 22:12:00  41.040212  28.988639  Istanbul    Turkey\n",
      "2014-07-06 22:27:00  41.043491  28.985364  Istanbul    Turkey\n",
      "2014-07-06 23:12:00  41.043476  28.985419  Istanbul    Turkey\n",
      "2014-07-06 23:23:00  41.043494  28.985460  Istanbul    Turkey\n",
      "2014-07-06 23:37:00  41.043492  28.985446  Istanbul    Turkey\n",
      "\n",
      "[514 rows x 4 columns]\n"
     ]
    }
   ],
   "source": [
    "# Q18: create a weekday and a weekend dataframe\n",
    "weekday_df = df[df.index.weekday < 5]  # Monday to Friday (0 to 4)\n",
    "weekend_df = df[df.index.weekday >= 5]  # Saturday and Sunday (5 and 6)\n",
    "\n",
    "# Print the DataFrames\n",
    "print(\"Weekday DataFrame:\")\n",
    "print(weekday_df)\n",
    "\n",
    "print(\"Weekend DataFrame:\")\n",
    "print(weekend_df)"
   ]
  },
  {
   "cell_type": "code",
   "execution_count": 124,
   "metadata": {
    "jupyter": {
     "outputs_hidden": false
    }
   },
   "outputs": [
    {
     "ename": "TypeError",
     "evalue": "no numeric data to plot",
     "output_type": "error",
     "traceback": [
      "\u001b[1;31m---------------------------------------------------------------------------\u001b[0m",
      "\u001b[1;31mTypeError\u001b[0m                                 Traceback (most recent call last)",
      "Cell \u001b[1;32mIn[124], line 7\u001b[0m\n\u001b[0;32m      4\u001b[0m obs_per_day \u001b[38;5;241m=\u001b[39m df[\u001b[38;5;124m'\u001b[39m\u001b[38;5;124mday_of_week\u001b[39m\u001b[38;5;124m'\u001b[39m]\u001b[38;5;241m.\u001b[39mvalue_counts()\n\u001b[0;32m      6\u001b[0m \u001b[38;5;66;03m# Plot the number of observations per day of the week\u001b[39;00m\n\u001b[1;32m----> 7\u001b[0m ps\u001b[38;5;241m.\u001b[39mplot(figsize\u001b[38;5;241m=\u001b[39m(\u001b[38;5;241m10\u001b[39m, \u001b[38;5;241m6\u001b[39m), title\u001b[38;5;241m=\u001b[39m\u001b[38;5;124m'\u001b[39m\u001b[38;5;124mNumber of Observations Each Day of the Week\u001b[39m\u001b[38;5;124m'\u001b[39m),\n\u001b[0;32m      8\u001b[0m plt\u001b[38;5;241m.\u001b[39mxlabel(\u001b[38;5;124m'\u001b[39m\u001b[38;5;124mDay of the Week\u001b[39m\u001b[38;5;124m'\u001b[39m)\n\u001b[0;32m      9\u001b[0m plt\u001b[38;5;241m.\u001b[39mylabel(\u001b[38;5;124m'\u001b[39m\u001b[38;5;124mNumber of Observations\u001b[39m\u001b[38;5;124m'\u001b[39m) \n",
      "File \u001b[1;32m~\\anaconda3\\Lib\\site-packages\\pandas\\plotting\\_core.py:975\u001b[0m, in \u001b[0;36mPlotAccessor.__call__\u001b[1;34m(self, *args, **kwargs)\u001b[0m\n\u001b[0;32m    972\u001b[0m             label_name \u001b[38;5;241m=\u001b[39m label_kw \u001b[38;5;129;01mor\u001b[39;00m data\u001b[38;5;241m.\u001b[39mcolumns\n\u001b[0;32m    973\u001b[0m             data\u001b[38;5;241m.\u001b[39mcolumns \u001b[38;5;241m=\u001b[39m label_name\n\u001b[1;32m--> 975\u001b[0m \u001b[38;5;28;01mreturn\u001b[39;00m plot_backend\u001b[38;5;241m.\u001b[39mplot(data, kind\u001b[38;5;241m=\u001b[39mkind, \u001b[38;5;241m*\u001b[39m\u001b[38;5;241m*\u001b[39mkwargs)\n",
      "File \u001b[1;32m~\\anaconda3\\Lib\\site-packages\\pandas\\plotting\\_matplotlib\\__init__.py:71\u001b[0m, in \u001b[0;36mplot\u001b[1;34m(data, kind, **kwargs)\u001b[0m\n\u001b[0;32m     69\u001b[0m         kwargs[\u001b[38;5;124m\"\u001b[39m\u001b[38;5;124max\u001b[39m\u001b[38;5;124m\"\u001b[39m] \u001b[38;5;241m=\u001b[39m \u001b[38;5;28mgetattr\u001b[39m(ax, \u001b[38;5;124m\"\u001b[39m\u001b[38;5;124mleft_ax\u001b[39m\u001b[38;5;124m\"\u001b[39m, ax)\n\u001b[0;32m     70\u001b[0m plot_obj \u001b[38;5;241m=\u001b[39m PLOT_CLASSES[kind](data, \u001b[38;5;241m*\u001b[39m\u001b[38;5;241m*\u001b[39mkwargs)\n\u001b[1;32m---> 71\u001b[0m plot_obj\u001b[38;5;241m.\u001b[39mgenerate()\n\u001b[0;32m     72\u001b[0m plot_obj\u001b[38;5;241m.\u001b[39mdraw()\n\u001b[0;32m     73\u001b[0m \u001b[38;5;28;01mreturn\u001b[39;00m plot_obj\u001b[38;5;241m.\u001b[39mresult\n",
      "File \u001b[1;32m~\\anaconda3\\Lib\\site-packages\\pandas\\plotting\\_matplotlib\\core.py:446\u001b[0m, in \u001b[0;36mMPLPlot.generate\u001b[1;34m(self)\u001b[0m\n\u001b[0;32m    444\u001b[0m \u001b[38;5;28;01mdef\u001b[39;00m \u001b[38;5;21mgenerate\u001b[39m(\u001b[38;5;28mself\u001b[39m) \u001b[38;5;241m-\u001b[39m\u001b[38;5;241m>\u001b[39m \u001b[38;5;28;01mNone\u001b[39;00m:\n\u001b[0;32m    445\u001b[0m     \u001b[38;5;28mself\u001b[39m\u001b[38;5;241m.\u001b[39m_args_adjust()\n\u001b[1;32m--> 446\u001b[0m     \u001b[38;5;28mself\u001b[39m\u001b[38;5;241m.\u001b[39m_compute_plot_data()\n\u001b[0;32m    447\u001b[0m     \u001b[38;5;28mself\u001b[39m\u001b[38;5;241m.\u001b[39m_setup_subplots()\n\u001b[0;32m    448\u001b[0m     \u001b[38;5;28mself\u001b[39m\u001b[38;5;241m.\u001b[39m_make_plot()\n",
      "File \u001b[1;32m~\\anaconda3\\Lib\\site-packages\\pandas\\plotting\\_matplotlib\\core.py:632\u001b[0m, in \u001b[0;36mMPLPlot._compute_plot_data\u001b[1;34m(self)\u001b[0m\n\u001b[0;32m    630\u001b[0m \u001b[38;5;66;03m# no non-numeric frames or series allowed\u001b[39;00m\n\u001b[0;32m    631\u001b[0m \u001b[38;5;28;01mif\u001b[39;00m is_empty:\n\u001b[1;32m--> 632\u001b[0m     \u001b[38;5;28;01mraise\u001b[39;00m \u001b[38;5;167;01mTypeError\u001b[39;00m(\u001b[38;5;124m\"\u001b[39m\u001b[38;5;124mno numeric data to plot\u001b[39m\u001b[38;5;124m\"\u001b[39m)\n\u001b[0;32m    634\u001b[0m \u001b[38;5;28mself\u001b[39m\u001b[38;5;241m.\u001b[39mdata \u001b[38;5;241m=\u001b[39m numeric_data\u001b[38;5;241m.\u001b[39mapply(\u001b[38;5;28mself\u001b[39m\u001b[38;5;241m.\u001b[39m_convert_to_ndarray)\n",
      "\u001b[1;31mTypeError\u001b[0m: no numeric data to plot"
     ]
    }
   ],
   "source": [
    "# Q19: calculate and plot the number of observations each day of the week has\n",
    "# Calculate the number of observations for each day of the week\n",
    "df['day_of_week'] = df.index.day_name()\n",
    "obs_per_day = df['day_of_week'].value_counts()\n",
    "\n",
    "# Plot the number of observations per day of the week\n",
    "ps.plot(figsize=(10, 6), title='Number of Observations Each Day of the Week'),\n",
    "plt.xlabel('Day of the Week')\n",
    "plt.ylabel('Number of Observations') \n",
    "plt.show()\n",
    "\n",
    "# question: I have no idea how to do this one"
   ]
  },
  {
   "cell_type": "code",
   "execution_count": null,
   "metadata": {},
   "outputs": [],
   "source": []
  }
 ],
 "metadata": {
  "kernelspec": {
   "display_name": "Python 3 (ipykernel)",
   "language": "python",
   "name": "python3"
  },
  "language_info": {
   "codemirror_mode": {
    "name": "ipython",
    "version": 3
   },
   "file_extension": ".py",
   "mimetype": "text/x-python",
   "name": "python",
   "nbconvert_exporter": "python",
   "pygments_lexer": "ipython3",
   "version": "3.11.5"
  }
 },
 "nbformat": 4,
 "nbformat_minor": 4
}
